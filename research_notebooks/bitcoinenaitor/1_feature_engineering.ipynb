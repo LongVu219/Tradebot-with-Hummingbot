{
 "cells": [
  {
   "cell_type": "code",
   "execution_count": 1,
   "metadata": {
    "collapsed": false,
    "jupyter": {
     "outputs_hidden": false
    }
   },
   "outputs": [],
   "source": [
    "# This is necessary to recognize the modules\n",
    "import os\n",
    "import sys\n",
    "from decimal import Decimal\n",
    "import warnings\n",
    "\n",
    "warnings.filterwarnings(\"ignore\")\n",
    "\n",
    "root_path = os.path.abspath('/home/dominhnhat/quants-lab/research_notebooks/bitcoinenaitor')\n",
    "sys.path.append(root_path)\n",
    "\n",
    "# assuming your notebook lives in PROJECT_ROOT/research_notebooks/bitcoinainer/\n",
    "PROJECT_ROOT = os.path.abspath(os.path.join(os.getcwd(), os.pardir, os.pardir))\n",
    "if PROJECT_ROOT not in sys.path:\n",
    "    sys.path.insert(0, PROJECT_ROOT)"
   ]
  },
  {
   "cell_type": "code",
   "execution_count": 2,
   "metadata": {
    "collapsed": false,
    "jupyter": {
     "outputs_hidden": false
    }
   },
   "outputs": [],
   "source": [
    "from core.data_sources.clob import CLOBDataSource\n",
    "\n",
    "# Get trading rules and candles\n",
    "clob = CLOBDataSource()"
   ]
  },
  {
   "cell_type": "code",
   "execution_count": 3,
   "metadata": {},
   "outputs": [],
   "source": [
    "clob.load_candles_cache(root_path)"
   ]
  },
  {
   "cell_type": "code",
   "execution_count": 4,
   "metadata": {},
   "outputs": [],
   "source": [
    "candles = clob.candles_cache[(\"binance\", \"BTC-USDT\", \"1s\")]"
   ]
  },
  {
   "cell_type": "code",
   "execution_count": 5,
   "metadata": {},
   "outputs": [],
   "source": [
    "df = candles.data"
   ]
  },
  {
   "cell_type": "code",
   "execution_count": 6,
   "metadata": {},
   "outputs": [
    {
     "data": {
      "text/plain": [
       "(259200, 10)"
      ]
     },
     "execution_count": 6,
     "metadata": {},
     "output_type": "execute_result"
    }
   ],
   "source": [
    "df.shape"
   ]
  },
  {
   "cell_type": "code",
   "execution_count": 7,
   "metadata": {},
   "outputs": [],
   "source": [
    "from core.backtesting.triple_barrier_method import triple_barrier_method\n",
    "df[\"side\"] = 1\n",
    "df_with_tbm = triple_barrier_method(df, tp=3.5, sl=3.5, tl=300, std_span=200, trade_cost=0.0000)"
   ]
  },
  {
   "cell_type": "code",
   "execution_count": 8,
   "metadata": {},
   "outputs": [
    {
     "data": {
      "text/plain": [
       "close_type\n",
       " 0    119857\n",
       "-1     72515\n",
       " 1     66629\n",
       "Name: count, dtype: int64"
      ]
     },
     "execution_count": 8,
     "metadata": {},
     "output_type": "execute_result"
    }
   ],
   "source": [
    "df_with_tbm.close_type.value_counts()"
   ]
  },
  {
   "cell_type": "code",
   "execution_count": 9,
   "metadata": {},
   "outputs": [
    {
     "data": {
      "text/plain": [
       "count       259001\n",
       "mean    0.00025326\n",
       "std     0.00018892\n",
       "min     0.00000005\n",
       "25%      0.0001351\n",
       "50%      0.0002063\n",
       "75%     0.00031247\n",
       "max     0.00178846\n",
       "Name: target, dtype: float64"
      ]
     },
     "execution_count": 9,
     "metadata": {},
     "output_type": "execute_result"
    }
   ],
   "source": [
    "df_with_tbm.target.describe()"
   ]
  },
  {
   "cell_type": "code",
   "execution_count": 10,
   "metadata": {},
   "outputs": [
    {
     "name": "stdout",
     "output_type": "stream",
     "text": [
      "Processed dataset shape: (238315, 37)\n"
     ]
    },
    {
     "data": {
      "text/html": [
       "<div>\n",
       "<style scoped>\n",
       "    .dataframe tbody tr th:only-of-type {\n",
       "        vertical-align: middle;\n",
       "    }\n",
       "\n",
       "    .dataframe tbody tr th {\n",
       "        vertical-align: top;\n",
       "    }\n",
       "\n",
       "    .dataframe thead th {\n",
       "        text-align: right;\n",
       "    }\n",
       "</style>\n",
       "<table border=\"1\" class=\"dataframe\">\n",
       "  <thead>\n",
       "    <tr style=\"text-align: right;\">\n",
       "      <th></th>\n",
       "      <th>quote_asset_volume</th>\n",
       "      <th>n_trades</th>\n",
       "      <th>target</th>\n",
       "      <th>close_type</th>\n",
       "      <th>BBL_20_2.0</th>\n",
       "      <th>BBM_20_2.0</th>\n",
       "      <th>BBU_20_2.0</th>\n",
       "      <th>BBB_20_2.0</th>\n",
       "      <th>BBP_20_2.0</th>\n",
       "      <th>BBL_50_2.0</th>\n",
       "      <th>...</th>\n",
       "      <th>STOCHk_14_3_3</th>\n",
       "      <th>STOCHd_14_3_3</th>\n",
       "      <th>ADX_14</th>\n",
       "      <th>DMP_14</th>\n",
       "      <th>DMN_14</th>\n",
       "      <th>open_ret</th>\n",
       "      <th>high_ret</th>\n",
       "      <th>low_ret</th>\n",
       "      <th>close_ret</th>\n",
       "      <th>buy_volume_ratio</th>\n",
       "    </tr>\n",
       "    <tr>\n",
       "      <th>timestamp</th>\n",
       "      <th></th>\n",
       "      <th></th>\n",
       "      <th></th>\n",
       "      <th></th>\n",
       "      <th></th>\n",
       "      <th></th>\n",
       "      <th></th>\n",
       "      <th></th>\n",
       "      <th></th>\n",
       "      <th></th>\n",
       "      <th></th>\n",
       "      <th></th>\n",
       "      <th></th>\n",
       "      <th></th>\n",
       "      <th></th>\n",
       "      <th></th>\n",
       "      <th></th>\n",
       "      <th></th>\n",
       "      <th></th>\n",
       "      <th></th>\n",
       "      <th></th>\n",
       "    </tr>\n",
       "  </thead>\n",
       "  <tbody>\n",
       "    <tr>\n",
       "      <th>2025-05-04 08:29:04</th>\n",
       "      <td>-0.15148792</td>\n",
       "      <td>-0.31905545</td>\n",
       "      <td>-0.62987315</td>\n",
       "      <td>1</td>\n",
       "      <td>0.7943657</td>\n",
       "      <td>0.78232764</td>\n",
       "      <td>0.77010068</td>\n",
       "      <td>-0.82203242</td>\n",
       "      <td>0.55026583</td>\n",
       "      <td>0.80556869</td>\n",
       "      <td>...</td>\n",
       "      <td>0.35946062</td>\n",
       "      <td>0.09214339</td>\n",
       "      <td>-1.4939684</td>\n",
       "      <td>-0.32296004</td>\n",
       "      <td>-0.4365209</td>\n",
       "      <td>-0.00058266</td>\n",
       "      <td>-0.00530715</td>\n",
       "      <td>0.00342753</td>\n",
       "      <td>-0.00127716</td>\n",
       "      <td>1.13467609</td>\n",
       "    </tr>\n",
       "    <tr>\n",
       "      <th>2025-05-04 08:29:05</th>\n",
       "      <td>0.40151344</td>\n",
       "      <td>1.98234991</td>\n",
       "      <td>-0.62798419</td>\n",
       "      <td>1</td>\n",
       "      <td>0.78803974</td>\n",
       "      <td>0.78167499</td>\n",
       "      <td>0.77512605</td>\n",
       "      <td>-0.45003277</td>\n",
       "      <td>-3.02935123</td>\n",
       "      <td>0.8016671</td>\n",
       "      <td>...</td>\n",
       "      <td>0.35946062</td>\n",
       "      <td>0.37184758</td>\n",
       "      <td>-1.2744241</td>\n",
       "      <td>-1.36552023</td>\n",
       "      <td>1.51948877</td>\n",
       "      <td>-0.00301088</td>\n",
       "      <td>-0.00773518</td>\n",
       "      <td>-2.8066775</td>\n",
       "      <td>-2.80145967</td>\n",
       "      <td>-1.16237301</td>\n",
       "    </tr>\n",
       "    <tr>\n",
       "      <th>2025-05-04 08:29:06</th>\n",
       "      <td>-0.14999624</td>\n",
       "      <td>-0.33104194</td>\n",
       "      <td>-0.62755749</td>\n",
       "      <td>1</td>\n",
       "      <td>0.78524738</td>\n",
       "      <td>0.78102235</td>\n",
       "      <td>0.776615</td>\n",
       "      <td>-0.30971399</td>\n",
       "      <td>-2.08945651</td>\n",
       "      <td>0.79994688</td>\n",
       "      <td>...</td>\n",
       "      <td>-0.45202658</td>\n",
       "      <td>0.09214339</td>\n",
       "      <td>-1.07263452</td>\n",
       "      <td>-1.36552629</td>\n",
       "      <td>1.51690458</td>\n",
       "      <td>-2.82702936</td>\n",
       "      <td>-2.83153291</td>\n",
       "      <td>0.00342753</td>\n",
       "      <td>-0.00127716</td>\n",
       "      <td>0.93806513</td>\n",
       "    </tr>\n",
       "    <tr>\n",
       "      <th>2025-05-04 08:29:07</th>\n",
       "      <td>-0.14891736</td>\n",
       "      <td>-0.31905545</td>\n",
       "      <td>-0.62932249</td>\n",
       "      <td>1</td>\n",
       "      <td>0.78311004</td>\n",
       "      <td>0.78037083</td>\n",
       "      <td>0.77745063</td>\n",
       "      <td>-0.21226871</td>\n",
       "      <td>-1.65984816</td>\n",
       "      <td>0.79860502</td>\n",
       "      <td>...</td>\n",
       "      <td>-1.26281781</td>\n",
       "      <td>-0.46702511</td>\n",
       "      <td>-0.8870197</td>\n",
       "      <td>-1.36553281</td>\n",
       "      <td>1.51412689</td>\n",
       "      <td>-0.00058266</td>\n",
       "      <td>-0.00530715</td>\n",
       "      <td>0.00342753</td>\n",
       "      <td>0.00112466</td>\n",
       "      <td>-0.21834965</td>\n",
       "    </tr>\n",
       "    <tr>\n",
       "      <th>2025-05-04 08:29:08</th>\n",
       "      <td>-0.15363839</td>\n",
       "      <td>-0.33104194</td>\n",
       "      <td>-0.63123873</td>\n",
       "      <td>1</td>\n",
       "      <td>0.78133784</td>\n",
       "      <td>0.77971819</td>\n",
       "      <td>0.7779186</td>\n",
       "      <td>-0.13883616</td>\n",
       "      <td>-1.39816699</td>\n",
       "      <td>0.7974623</td>\n",
       "      <td>...</td>\n",
       "      <td>-1.26281781</td>\n",
       "      <td>-1.0261936</td>\n",
       "      <td>-0.71616113</td>\n",
       "      <td>-1.36553982</td>\n",
       "      <td>1.51114167</td>\n",
       "      <td>-0.00058266</td>\n",
       "      <td>-0.00530715</td>\n",
       "      <td>0.00342753</td>\n",
       "      <td>-0.00367898</td>\n",
       "      <td>-0.97150288</td>\n",
       "    </tr>\n",
       "  </tbody>\n",
       "</table>\n",
       "<p>5 rows × 37 columns</p>\n",
       "</div>"
      ],
      "text/plain": [
       "                     quote_asset_volume    n_trades      target  close_type  \\\n",
       "timestamp                                                                     \n",
       "2025-05-04 08:29:04         -0.15148792 -0.31905545 -0.62987315           1   \n",
       "2025-05-04 08:29:05          0.40151344  1.98234991 -0.62798419           1   \n",
       "2025-05-04 08:29:06         -0.14999624 -0.33104194 -0.62755749           1   \n",
       "2025-05-04 08:29:07         -0.14891736 -0.31905545 -0.62932249           1   \n",
       "2025-05-04 08:29:08         -0.15363839 -0.33104194 -0.63123873           1   \n",
       "\n",
       "                     BBL_20_2.0  BBM_20_2.0  BBU_20_2.0  BBB_20_2.0  \\\n",
       "timestamp                                                             \n",
       "2025-05-04 08:29:04   0.7943657  0.78232764  0.77010068 -0.82203242   \n",
       "2025-05-04 08:29:05  0.78803974  0.78167499  0.77512605 -0.45003277   \n",
       "2025-05-04 08:29:06  0.78524738  0.78102235    0.776615 -0.30971399   \n",
       "2025-05-04 08:29:07  0.78311004  0.78037083  0.77745063 -0.21226871   \n",
       "2025-05-04 08:29:08  0.78133784  0.77971819   0.7779186 -0.13883616   \n",
       "\n",
       "                     BBP_20_2.0  BBL_50_2.0  ...  STOCHk_14_3_3  \\\n",
       "timestamp                                    ...                  \n",
       "2025-05-04 08:29:04  0.55026583  0.80556869  ...     0.35946062   \n",
       "2025-05-04 08:29:05 -3.02935123   0.8016671  ...     0.35946062   \n",
       "2025-05-04 08:29:06 -2.08945651  0.79994688  ...    -0.45202658   \n",
       "2025-05-04 08:29:07 -1.65984816  0.79860502  ...    -1.26281781   \n",
       "2025-05-04 08:29:08 -1.39816699   0.7974623  ...    -1.26281781   \n",
       "\n",
       "                     STOCHd_14_3_3      ADX_14      DMP_14     DMN_14  \\\n",
       "timestamp                                                               \n",
       "2025-05-04 08:29:04     0.09214339  -1.4939684 -0.32296004 -0.4365209   \n",
       "2025-05-04 08:29:05     0.37184758  -1.2744241 -1.36552023 1.51948877   \n",
       "2025-05-04 08:29:06     0.09214339 -1.07263452 -1.36552629 1.51690458   \n",
       "2025-05-04 08:29:07    -0.46702511  -0.8870197 -1.36553281 1.51412689   \n",
       "2025-05-04 08:29:08     -1.0261936 -0.71616113 -1.36553982 1.51114167   \n",
       "\n",
       "                       open_ret    high_ret    low_ret   close_ret  \\\n",
       "timestamp                                                            \n",
       "2025-05-04 08:29:04 -0.00058266 -0.00530715 0.00342753 -0.00127716   \n",
       "2025-05-04 08:29:05 -0.00301088 -0.00773518 -2.8066775 -2.80145967   \n",
       "2025-05-04 08:29:06 -2.82702936 -2.83153291 0.00342753 -0.00127716   \n",
       "2025-05-04 08:29:07 -0.00058266 -0.00530715 0.00342753  0.00112466   \n",
       "2025-05-04 08:29:08 -0.00058266 -0.00530715 0.00342753 -0.00367898   \n",
       "\n",
       "                     buy_volume_ratio  \n",
       "timestamp                              \n",
       "2025-05-04 08:29:04        1.13467609  \n",
       "2025-05-04 08:29:05       -1.16237301  \n",
       "2025-05-04 08:29:06        0.93806513  \n",
       "2025-05-04 08:29:07       -0.21834965  \n",
       "2025-05-04 08:29:08       -0.97150288  \n",
       "\n",
       "[5 rows x 37 columns]"
      ]
     },
     "execution_count": 10,
     "metadata": {},
     "output_type": "execute_result"
    }
   ],
   "source": [
    "import numpy as np\n",
    "from sklearn.preprocessing import StandardScaler\n",
    "\n",
    "# Add technical indicators using pandas_ta\n",
    "import pandas_ta as ta\n",
    "\n",
    "# Create a copy to work with\n",
    "df_with_indicators = df_with_tbm.copy()\n",
    "\n",
    "# Bollinger Bands with different lengths\n",
    "df_with_indicators.ta.bbands(length=20, std=2, append=True)  # Standard BB\n",
    "df_with_indicators.ta.bbands(length=50, std=2, append=True)  # Longer term BB\n",
    "\n",
    "# MACD with different parameters\n",
    "df_with_indicators.ta.macd(fast=12, slow=26, signal=9, append=True)  # Standard MACD\n",
    "df_with_indicators.ta.macd(fast=8, slow=21, signal=5, append=True)  # Faster MACD\n",
    "\n",
    "# RSI with different lengths\n",
    "df_with_indicators.ta.rsi(length=14, append=True)  # Standard RSI\n",
    "df_with_indicators.ta.rsi(length=21, append=True)  # Longer RSI\n",
    "\n",
    "# Moving averages\n",
    "df_with_indicators.ta.sma(length=20, append=True)  # Short MA\n",
    "df_with_indicators.ta.sma(length=50, append=True)  # Medium MA\n",
    "df_with_indicators.ta.ema(length=20, append=True)  # Short EMA\n",
    "df_with_indicators.ta.ema(length=50, append=True)  # Medium EMA\n",
    "\n",
    "# Volatility and momentum indicators\n",
    "df_with_indicators.ta.atr(length=14, append=True)  # ATR\n",
    "df_with_indicators.ta.stoch(k=14, d=3, append=True)  # Stochastic\n",
    "df_with_indicators.ta.adx(length=14, append=True)  # ADX\n",
    "\n",
    "# Replace df_with_tbm with df_with_indicators for further processing\n",
    "df_processed = df_with_indicators.copy()\n",
    "\n",
    "# df_processed.reset_index(inplace=True, drop=True)\n",
    "\n",
    "# 1. Remove unnecessary columns\n",
    "columns_to_drop = ['timestamp', 'taker_buy_base_volume', 'volume', \n",
    "                   'close_time', 'real_class', 'ret', 'tp', 'sl', 'take_profit_time', 'stop_loss_time', 'tl', 'side']\n",
    "df_processed = df_processed.drop(columns=columns_to_drop)\n",
    "# 2. Convert prices to returns\n",
    "price_columns = ['open', 'high', 'low', 'close']\n",
    "for col in price_columns:\n",
    "    df_processed[f'{col}_ret'] = df_processed[col].pct_change()\n",
    "df_processed = df_processed.drop(columns=price_columns)\n",
    "\n",
    "# 3. Create buy/sell volume ratio\n",
    "df_processed['buy_volume_ratio'] = df_processed['taker_buy_quote_volume'] / df_processed['quote_asset_volume']\n",
    "df_processed = df_processed.drop(columns=['taker_buy_quote_volume'])\n",
    "\n",
    "# 4. Drop any rows with NaN values (first row will have NaN due to returns calculation)\n",
    "df_processed = df_processed.dropna()\n",
    "\n",
    "# 5. Get all numeric columns for scaling (excluding the target 'close_type')\n",
    "numeric_columns = df_processed.select_dtypes(include=['float64', 'int64']).columns.tolist()\n",
    "numeric_columns.remove('close_type')  # Don't scale the target variable\n",
    "\n",
    "# 6. Apply StandardScaler to all numeric columns\n",
    "scaler = StandardScaler()\n",
    "df_processed[numeric_columns] = scaler.fit_transform(df_processed[numeric_columns])\n",
    "\n",
    "# Show the first few rows of the processed dataset\n",
    "print(\"Processed dataset shape:\", df_processed.shape)\n",
    "df_processed.head()"
   ]
  },
  {
   "cell_type": "code",
   "execution_count": 12,
   "metadata": {},
   "outputs": [],
   "source": [
    "candles_path = os.path.join(root_path, \"data\", \"features_df\")\n",
    "filename = os.path.join(candles_path, f\"{candles.connector_name}|{candles.trading_pair}|{candles.interval}.parquet\")\n",
    "df_processed.to_parquet(\n",
    "filename,\n",
    "engine='pyarrow',\n",
    "compression='snappy',\n",
    "index=True\n",
    ")"
   ]
  },
  {
   "cell_type": "code",
   "execution_count": 14,
   "metadata": {},
   "outputs": [
    {
     "data": {
      "text/plain": [
       "['/home/dominhnhat/quants-lab/research_notebooks/bitcoinenaitor/models/scaler.pkl']"
      ]
     },
     "execution_count": 14,
     "metadata": {},
     "output_type": "execute_result"
    }
   ],
   "source": [
    "# dump the scaler\n",
    "import joblib\n",
    "\n",
    "joblib.dump(scaler, os.path.join(root_path, \"models\", \"scaler.pkl\"))"
   ]
  },
  {
   "cell_type": "code",
   "execution_count": null,
   "metadata": {},
   "outputs": [],
   "source": []
  }
 ],
 "metadata": {
  "kernelspec": {
   "display_name": "quants-lab",
   "language": "python",
   "name": "python3"
  },
  "language_info": {
   "codemirror_mode": {
    "name": "ipython",
    "version": 3
   },
   "file_extension": ".py",
   "mimetype": "text/x-python",
   "name": "python",
   "nbconvert_exporter": "python",
   "pygments_lexer": "ipython3",
   "version": "3.12.10"
  }
 },
 "nbformat": 4,
 "nbformat_minor": 4
}
